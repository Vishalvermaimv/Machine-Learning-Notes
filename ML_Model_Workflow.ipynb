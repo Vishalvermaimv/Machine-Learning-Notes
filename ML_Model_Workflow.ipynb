{
 "cells": [
  {
   "cell_type": "code",
   "execution_count": null,
   "metadata": {},
   "outputs": [],
   "source": [
    "# End-to-End Workflow of an ML Algorithm -\n",
    "# (1) Importing important libraries\n",
    "# (2) Importing the data (Data Gathering) -> Data Engineering\n",
    "# (3) Getting an understanding about the data with which you are working\n",
    "# (4) Getting an understanding about the problem statement that you are trying to solve\n",
    "# (5) Exploratory Data Analysis (EDA) -> Approximate Patterns in the data\n",
    "# (6) Shortlist the ML Algorithms that you want to try on the data.\n",
    "# (7) Separate Pre-Processing on the data (according to the algorithm)\n",
    "# (8) Feature Engineering / Feature Selection\n",
    "# (9) Perform a train test split\n",
    "# (10) Train a ML Model with training data (Training the model)\n",
    "# (11) Get the predictions from the model on testing data\n",
    "# (12) Evaluate the ML model performance (Model Evaluation)\n",
    "# (13) If the evaluation results are not according to the expectations, try to optimize.\n",
    "# (14) Deploy the model into production. (Model Deployment)(MLOps)\n",
    "# (15) Maintainance and Monitoring of the work done by ML model. (MLOps)"
   ]
  },
  {
   "cell_type": "code",
   "execution_count": null,
   "metadata": {},
   "outputs": [],
   "source": []
  }
 ],
 "metadata": {
  "kernelspec": {
   "display_name": "Python 3",
   "language": "python",
   "name": "python3"
  },
  "language_info": {
   "codemirror_mode": {
    "name": "ipython",
    "version": 3
   },
   "file_extension": ".py",
   "mimetype": "text/x-python",
   "name": "python",
   "nbconvert_exporter": "python",
   "pygments_lexer": "ipython3",
   "version": "3.8.3"
  }
 },
 "nbformat": 4,
 "nbformat_minor": 4
}
